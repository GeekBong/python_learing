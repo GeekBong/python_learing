{
 "cells": [
  {
   "cell_type": "markdown",
   "id": "c0847df9",
   "metadata": {},
   "source": [
    "# numpy介绍"
   ]
  },
  {
   "cell_type": "code",
   "execution_count": 15,
   "id": "91085aa0",
   "metadata": {},
   "outputs": [],
   "source": [
    "import numpy as np\n",
    "import time\n",
    "import random"
   ]
  },
  {
   "cell_type": "markdown",
   "id": "074997f6",
   "metadata": {},
   "source": [
    "###### 比较python的list和numpy处理数据的速度"
   ]
  },
  {
   "cell_type": "code",
   "execution_count": 16,
   "id": "b9e47163",
   "metadata": {},
   "outputs": [],
   "source": [
    "a = []#空列表\n",
    "for  i in range(10000000):#一万\n",
    "    a.append(i)"
   ]
  },
  {
   "cell_type": "code",
   "execution_count": 18,
   "id": "004539cd",
   "metadata": {},
   "outputs": [
    {
     "name": "stdout",
     "output_type": "stream",
     "text": [
      "CPU times: total: 234 ms\n",
      "Wall time: 645 ms\n",
      "CPU times: total: 0 ns\n",
      "Wall time: 9.7 ms\n"
     ]
    }
   ],
   "source": [
    "#通过time方法，查看list和numpy求和的执行时间\n",
    "%time sum_list = sum(a)\n",
    "b = np.array(a)\n",
    "%time sum_np = np.sum(b)"
   ]
  },
  {
   "cell_type": "markdown",
   "id": "b39f3257",
   "metadata": {},
   "source": [
    "        以上执行结果说明numpy的执行速度比list快（因为numpy的N维数组对象ndarray[描述相同类型的元素的集合]在存储数据的时候，数据与数据的地址都是连续的，因此批量操作数组元素时速度更快）\n",
    "        N-Dimensional Array（N维数组） 的缩写"
   ]
  },
  {
   "cell_type": "markdown",
   "id": "c88bcbb1",
   "metadata": {},
   "source": [
    "###### numpy创建对象"
   ]
  },
  {
   "cell_type": "markdown",
   "id": "4b24ad5f",
   "metadata": {},
   "source": [
    "    ①list创建"
   ]
  },
  {
   "cell_type": "code",
   "execution_count": 24,
   "id": "b1d5d2a1",
   "metadata": {},
   "outputs": [
    {
     "data": {
      "text/plain": [
       "array([[[98, 92],\n",
       "        [91, 99]],\n",
       "\n",
       "       [[98, 92],\n",
       "        [91, 99]]])"
      ]
     },
     "execution_count": 24,
     "metadata": {},
     "output_type": "execute_result"
    }
   ],
   "source": [
    "score_np = np.array([[[98,92],[91,99]],[[98,92],[91,99]]])#中的参数为列表\n",
    "score_np#三维ndarray对象"
   ]
  },
  {
   "cell_type": "markdown",
   "id": "0caf7967",
   "metadata": {},
   "source": [
    "    ②从现有数组创建"
   ]
  },
  {
   "cell_type": "code",
   "execution_count": 34,
   "id": "3bbdba9f",
   "metadata": {},
   "outputs": [
    {
     "name": "stdout",
     "output_type": "stream",
     "text": [
      "temp1：\n",
      "[[[98 92]\n",
      "  [91 99]]\n",
      "\n",
      " [[98 92]\n",
      "  [91 99]]]\n",
      "temp2：\n",
      "[[[98 92]\n",
      "  [91 99]]\n",
      "\n",
      " [[98 92]\n",
      "  [91 99]]]\n"
     ]
    }
   ],
   "source": [
    "temp1 = np.array(score_np)#深拷贝：新建ndarray\n",
    "print(\"temp1：\")\n",
    "temp1\n",
    "print(temp1)\n",
    "temp2 = np.asarray(score_np)#浅拷贝：相当于索引的形势，并没有新建一个ndarray\n",
    "print(\"temp2：\")\n",
    "print(temp2)"
   ]
  },
  {
   "cell_type": "markdown",
   "id": "d1a57621",
   "metadata": {},
   "source": [
    "###### 比较深拷贝和浅拷贝"
   ]
  },
  {
   "cell_type": "code",
   "execution_count": 38,
   "id": "20248675",
   "metadata": {},
   "outputs": [
    {
     "name": "stdout",
     "output_type": "stream",
     "text": [
      "[[[98 92]\n",
      "  [91 99]]\n",
      "\n",
      " [[98 92]\n",
      "  [91 99]]]\n"
     ]
    }
   ],
   "source": [
    "temp1[0][0][0] = 0\n",
    "print(score_np)"
   ]
  },
  {
   "cell_type": "markdown",
   "id": "30a0c0bc",
   "metadata": {},
   "source": [
    "        深拷贝改变后，score_np并未改变"
   ]
  },
  {
   "cell_type": "code",
   "execution_count": 39,
   "id": "65f1bc92",
   "metadata": {},
   "outputs": [
    {
     "data": {
      "text/plain": [
       "array([[[ 1, 92],\n",
       "        [91, 99]],\n",
       "\n",
       "       [[98, 92],\n",
       "        [91, 99]]])"
      ]
     },
     "execution_count": 39,
     "metadata": {},
     "output_type": "execute_result"
    }
   ],
   "source": [
    "temp2[0][0][0] = 1\n",
    "score_np"
   ]
  },
  {
   "cell_type": "markdown",
   "id": "66c1d958",
   "metadata": {},
   "source": [
    "        浅拷贝改变后，score_np改变"
   ]
  },
  {
   "cell_type": "markdown",
   "id": "8038230f",
   "metadata": {},
   "source": [
    "###### 生成固定范围的数组"
   ]
  },
  {
   "cell_type": "markdown",
   "id": "1ae57833",
   "metadata": {},
   "source": [
    "        ①np.inspace(start,stop,num,endpoint)【参数依次为：序列的起始值||序列的终止值||要生成的等间隔样例数量（默认为50）||序列中是否包含stop值（默认为true）】"
   ]
  },
  {
   "cell_type": "code",
   "execution_count": 42,
   "id": "0ba17daa",
   "metadata": {},
   "outputs": [
    {
     "data": {
      "text/plain": [
       "array([ 0., 10., 20., 30., 40., 50., 60., 70., 80., 90.])"
      ]
     },
     "execution_count": 42,
     "metadata": {},
     "output_type": "execute_result"
    }
   ],
   "source": [
    "np_linspace = np.linspace(0,100,10,False)\n",
    "np_linspace"
   ]
  },
  {
   "cell_type": "markdown",
   "id": "a34c445b",
   "metadata": {},
   "source": [
    "        ②np.arrange(start,stop,step,dtype)【参数依次为：起始值||终止值||步长（默认为1）||数据类型】"
   ]
  },
  {
   "cell_type": "code",
   "execution_count": 47,
   "id": "039344a3",
   "metadata": {},
   "outputs": [
    {
     "data": {
      "text/plain": [
       "array([ 0, 10, 20, 30, 40, 50, 60, 70, 80, 90])"
      ]
     },
     "execution_count": 47,
     "metadata": {},
     "output_type": "execute_result"
    }
   ],
   "source": [
    "np_arrange = np.arange(0,100,10,int)\n",
    "np_arrange"
   ]
  },
  {
   "cell_type": "markdown",
   "id": "f98b691b",
   "metadata": {},
   "source": [
    "        ③np.logspace(start,stop,num)【start：10的开始次方||stop：10的结束次方，num：要生成的等比例数列的数量（默认值为50）】"
   ]
  },
  {
   "cell_type": "code",
   "execution_count": 54,
   "id": "1ef5ad71",
   "metadata": {},
   "outputs": [
    {
     "data": {
      "text/plain": [
       "array([  10.,  100., 1000.])"
      ]
     },
     "execution_count": 54,
     "metadata": {},
     "output_type": "execute_result"
    }
   ],
   "source": [
    "np_logspace = np.logspace(1,3,3)#从10的一次方开始，到10的3次方结束，生成三个数的等比数列\n",
    "np_logspace"
   ]
  },
  {
   "cell_type": "markdown",
   "id": "c6d8b021",
   "metadata": {},
   "source": [
    "###### 创建随机数组——正态分布 "
   ]
  },
  {
   "cell_type": "markdown",
   "id": "116bb39d",
   "metadata": {},
   "source": [
    "        ①从正态分布中返回若干个值：np.random.randn(d1,d2,……,dn)#生成n维的ndarray对象，形状为（d1，d2，……，dn）"
   ]
  },
  {
   "cell_type": "code",
   "execution_count": 58,
   "id": "4bafcd46",
   "metadata": {},
   "outputs": [
    {
     "data": {
      "text/plain": [
       "array([[[ 0.48793892,  0.41444318, -0.53979709],\n",
       "        [ 0.39916467, -1.65585989,  1.13797988],\n",
       "        [ 0.19740717,  1.16192541,  1.88165323]],\n",
       "\n",
       "       [[-1.70296485,  0.23373083, -0.28140814],\n",
       "        [-0.49187274,  0.35465451,  0.19561815],\n",
       "        [ 0.37996984,  0.12086138, -0.16771259]],\n",
       "\n",
       "       [[ 0.46506168,  1.55869699, -0.06851512],\n",
       "        [ 0.31771478,  0.00687058, -0.96797582],\n",
       "        [-1.44485989, -0.26312633, -0.98819782]]])"
      ]
     },
     "execution_count": 58,
     "metadata": {},
     "output_type": "execute_result"
    }
   ],
   "source": [
    "np_random_randn = np.random.randn(3,3,3)#生成3行3列3纵的三维ndarray对象\n",
    "np_random_randn"
   ]
  },
  {
   "cell_type": "markdown",
   "id": "fa411bf0",
   "metadata": {},
   "source": [
    "        ②正态分布创建：np.random.normal(1.5,10,100000000)#normal中的参数依次为：均值，标准差，正态分布数"
   ]
  },
  {
   "cell_type": "code",
   "execution_count": 12,
   "id": "65bf9a4e",
   "metadata": {},
   "outputs": [
    {
     "data": {
      "text/plain": [
       "array([ -9.45343937,   4.44008212,  13.3579611 , ...,   3.73895863,\n",
       "        -5.04824484, -13.73578631])"
      ]
     },
     "execution_count": 12,
     "metadata": {},
     "output_type": "execute_result"
    }
   ],
   "source": [
    "import numpy as np\n",
    "import matplotlib.pyplot as plt\n",
    "import random\n",
    "random_arr = np.random.normal(1.5,10,100000000)#normal中的参数依次为：均值，标准差，正态分布数\n",
    "random_arr"
   ]
  },
  {
   "cell_type": "markdown",
   "id": "c3350f73",
   "metadata": {},
   "source": [
    "        画图查看生成的标准正态分布"
   ]
  },
  {
   "cell_type": "code",
   "execution_count": 11,
   "id": "69dccd61",
   "metadata": {},
   "outputs": [
    {
     "data": {
      "image/png": "[encoded data removed]",
      "text/plain": [
       "<Figure size 2000x1000 with 1 Axes>"
      ]
     },
     "metadata": {},
     "output_type": "display_data"
    }
   ],
   "source": [
    "plt.figure(figsize=(20,10),dpi=100)\n",
    "plt.hist(random_arr,1000)#分成1000组\n",
    "plt.show()"
   ]
  },
  {
   "cell_type": "markdown",
   "id": "a71c5f07",
   "metadata": {},
   "source": [
    "###### 创建随机数组——均匀分布"
   ]
  },
  {
   "cell_type": "markdown",
   "id": "47fa284d",
   "metadata": {},
   "source": [
    "        ①np.random.uniform(low,high,size)【low：采样下界||high：采样上界（左闭右开）||size：取样的形状】"
   ]
  },
  {
   "cell_type": "code",
   "execution_count": 69,
   "id": "e967a7fa",
   "metadata": {},
   "outputs": [
    {
     "data": {
      "text/plain": [
       "array([[[555.12875311, 398.52040307, 716.3542608 ],\n",
       "        [240.61625811, 761.54862206,  67.27368927],\n",
       "        [250.17066499, 485.18591852, 250.41096861]],\n",
       "\n",
       "       [[696.5424238 , 367.37363013,  55.25228036],\n",
       "        [729.99531641,   7.21589748, 731.47681125],\n",
       "        [762.54638229,  80.92513634, 442.83003855]],\n",
       "\n",
       "       [[514.84409714, 316.77426278,  92.57005338],\n",
       "        [756.53661364, 442.76161119, 925.64834685],\n",
       "        [313.71403518, 250.84456352, 385.23325596]]])"
      ]
     },
     "execution_count": 69,
     "metadata": {},
     "output_type": "execute_result"
    }
   ],
   "source": [
    "uniform_arr = np.random.uniform(0,1000,[3,3,3])#参数依次为：下界、上界（下闭上开）、随机数个数：【三维】3*3*3个\n",
    "uniform_arr"
   ]
  },
  {
   "cell_type": "markdown",
   "id": "5b0a60c6",
   "metadata": {},
   "source": [
    "        ②np.random.randint(low,high,size)：从一个均匀分布中随机采样，生成一个int型数据。high为空时，在0到low之间随机取值"
   ]
  },
  {
   "cell_type": "code",
   "execution_count": 70,
   "id": "1c9098b9",
   "metadata": {},
   "outputs": [
    {
     "data": {
      "text/plain": [
       "array([[[4, 8, 3],\n",
       "        [2, 1, 1],\n",
       "        [6, 5, 3]],\n",
       "\n",
       "       [[0, 6, 8],\n",
       "        [8, 5, 6],\n",
       "        [9, 9, 2]],\n",
       "\n",
       "       [[1, 4, 4],\n",
       "        [0, 9, 9],\n",
       "        [0, 4, 2]]])"
      ]
     },
     "execution_count": 70,
     "metadata": {},
     "output_type": "execute_result"
    }
   ],
   "source": [
    "np_random_randint = np.random.randint(0,10,[3,3,3])\n",
    "np_random_randint"
   ]
  },
  {
   "cell_type": "code",
   "execution_count": 66,
   "id": "a7874625",
   "metadata": {
    "scrolled": true
   },
   "outputs": [
    {
     "ename": "NameError",
     "evalue": "name 'plt' is not defined",
     "output_type": "error",
     "traceback": [
      "\u001b[1;31m---------------------------------------------------------------------------\u001b[0m",
      "\u001b[1;31mNameError\u001b[0m                                 Traceback (most recent call last)",
      "Cell \u001b[1;32mIn[66], line 1\u001b[0m\n\u001b[1;32m----> 1\u001b[0m plt\u001b[38;5;241m.\u001b[39mfigure(figsize\u001b[38;5;241m=\u001b[39m(\u001b[38;5;241m10\u001b[39m,\u001b[38;5;241m10\u001b[39m),dpi\u001b[38;5;241m=\u001b[39m\u001b[38;5;241m100\u001b[39m)\n\u001b[0;32m      2\u001b[0m plt\u001b[38;5;241m.\u001b[39mhist(uniform_arr,\u001b[38;5;241m1000\u001b[39m)\u001b[38;5;66;03m#分成1000组\u001b[39;00m\n\u001b[0;32m      3\u001b[0m plt\u001b[38;5;241m.\u001b[39mshow()\n",
      "\u001b[1;31mNameError\u001b[0m: name 'plt' is not defined"
     ]
    }
   ],
   "source": [
    "plt.figure(figsize=(10,10),dpi=100)\n",
    "plt.hist(uniform_arr,1000)#分成1000组\n",
    "plt.show()"
   ]
  },
  {
   "cell_type": "markdown",
   "id": "4903774b",
   "metadata": {},
   "source": [
    "# 数组的基本操作"
   ]
  },
  {
   "cell_type": "markdown",
   "id": "a752c65b",
   "metadata": {},
   "source": [
    "#### 形状修改"
   ]
  },
  {
   "cell_type": "markdown",
   "id": "957d4b32",
   "metadata": {},
   "source": [
    "        ①resize(m,n)：修改数组本身的形状 \n",
    "          T：将数组转置"
   ]
  },
  {
   "cell_type": "code",
   "execution_count": 82,
   "id": "97a8d5a5",
   "metadata": {},
   "outputs": [
    {
     "name": "stdout",
     "output_type": "stream",
     "text": [
      "arr_np[1,6]： [[1 2 4 5 7 8]]\n",
      "arr_np.T：\n",
      " [[1]\n",
      " [2]\n",
      " [4]\n",
      " [5]\n",
      " [7]\n",
      " [8]]\n"
     ]
    }
   ],
   "source": [
    "arr = [[1,2],[4,5],[7,8]]#创建一个3行2列的数组\n",
    "arr_np = np.array(arr)\n",
    "arr_np.resize(1,6)#修改形状为1行6列\n",
    "print(\"arr_np[1,6]：\",arr_np)\n",
    "print(\"arr_np.T：\\n\",arr_np.T)#转置数组"
   ]
  },
  {
   "cell_type": "markdown",
   "id": "8b828f62",
   "metadata": {},
   "source": [
    "        ②reshape(m,n)：返回一个元素域相同但shape不同的视图：m行n列，-1代表未知"
   ]
  },
  {
   "cell_type": "code",
   "execution_count": 83,
   "id": "90157025",
   "metadata": {},
   "outputs": [
    {
     "name": "stdout",
     "output_type": "stream",
     "text": [
      "arr_np.reshape([1,-1])：\n",
      " [[1 2 4 5 7 8]]\n",
      "arr_np.reshape([2,-1])：\n",
      " [[1 2 4]\n",
      " [5 7 8]]\n"
     ]
    }
   ],
   "source": [
    "arr = [[1,2],[4,5],[7,8]]\n",
    "arr_np = np.array(arr)\n",
    "arr_np\n",
    "print(\"arr_np.reshape([1,-1])：\\n\",arr_np.reshape([1,-1]))#1行未知列\n",
    "print(\"arr_np.reshape([2,-1])：\\n\",arr_np.reshape([2,-1]))#2行未知列"
   ]
  },
  {
   "cell_type": "markdown",
   "id": "d086fea5",
   "metadata": {},
   "source": [
    "#### 类型修改：astype(type)"
   ]
  },
  {
   "cell_type": "code",
   "execution_count": 85,
   "id": "4c7e56c5",
   "metadata": {},
   "outputs": [
    {
     "data": {
      "text/plain": [
       "array([[b'1', b'2'],\n",
       "       [b'4', b'5'],\n",
       "       [b'7', b'8']], dtype='|S11')"
      ]
     },
     "execution_count": 85,
     "metadata": {},
     "output_type": "execute_result"
    }
   ],
   "source": [
    "arr_np.astype(np.string_)#将arr_np的元素类型（由int）修改为string_\n",
    "#arr_np.tostring()"
   ]
  },
  {
   "cell_type": "markdown",
   "id": "a4222c9c",
   "metadata": {},
   "source": [
    "#### 数组去重：unique(列表)"
   ]
  },
  {
   "cell_type": "code",
   "execution_count": 95,
   "id": "23c4abd0",
   "metadata": {},
   "outputs": [],
   "source": [
    "arr_repeat = [[1,1,2,2,3,3],[4,4,5,5,6,6]]\n",
    "arr_non_repeat = np.unique(arr_repeat)"
   ]
  },
  {
   "cell_type": "code",
   "execution_count": 96,
   "id": "eb3ac8a0",
   "metadata": {},
   "outputs": [
    {
     "name": "stdout",
     "output_type": "stream",
     "text": [
      "arr_repeat： [[1, 1, 2, 2, 3, 3], [4, 4, 5, 5, 6, 6]]\n",
      "arr_non_repeat： [1 2 3 4 5 6]\n"
     ]
    }
   ],
   "source": [
    "print(\"arr_repeat：\",arr_repeat)\n",
    "print(\"arr_non_repeat：\",arr_non_repeat)"
   ]
  },
  {
   "cell_type": "markdown",
   "id": "ca618469",
   "metadata": {},
   "source": [
    "        以上结果表明unique函数将列表中的元素去重后，新建了一个一维的数组存储去重后的数据"
   ]
  },
  {
   "cell_type": "markdown",
   "id": "d93e2c6a",
   "metadata": {},
   "source": [
    "# ndarray的运算"
   ]
  },
  {
   "cell_type": "markdown",
   "id": "04f0a7a7",
   "metadata": {},
   "source": [
    "        ①逻辑运算"
   ]
  },
  {
   "cell_type": "code",
   "execution_count": 110,
   "id": "d4d9372e",
   "metadata": {},
   "outputs": [
    {
     "name": "stdout",
     "output_type": "stream",
     "text": [
      "score_ndarray：\n",
      " [[76 74 88]\n",
      " [87 84 70]\n",
      " [91 79 95]\n",
      " [77 77 97]\n",
      " [83 90 97]\n",
      " [61 63 72]\n",
      " [85 78 76]\n",
      " [69 68 86]\n",
      " [71 70 73]\n",
      " [85 66 76]]\n"
     ]
    }
   ],
   "source": [
    "score_ndarray = np.random.randint(60,100,[10,3])#生成一个10行3列的60到100的数组\n",
    "print(\"score_ndarray：\\n\",score_ndarray)"
   ]
  },
  {
   "cell_type": "code",
   "execution_count": null,
   "id": "80f3496a",
   "metadata": {},
   "outputs": [],
   "source": [
    "score_ndarray[score_ndarray > 80] = 1 # 大于80的分数赋值1，否则赋值0\n",
    "score_ndarray"
   ]
  },
  {
   "cell_type": "markdown",
   "id": "b762f8f8",
   "metadata": {},
   "source": [
    "        ②通用判断函数：np.all()【全满足时返回true，有一个不满足就返回false】\n",
    "                   np.any()【有一个满足时返回true，全不满足时返回false】"
   ]
  },
  {
   "cell_type": "code",
   "execution_count": 111,
   "id": "2af4d897",
   "metadata": {},
   "outputs": [
    {
     "name": "stdout",
     "output_type": "stream",
     "text": [
      "False\n",
      "True\n"
     ]
    }
   ],
   "source": [
    "print(np.all(score_ndarray[5:,:] > 80))#判断后5名同学的分数是否均大于80\n",
    "print(np.any(score_ndarray[:1,:] > 85))#判断第一名同学的三科成绩有没有大于85的"
   ]
  },
  {
   "cell_type": "markdown",
   "id": "23360d70",
   "metadata": {},
   "source": [
    "        ③三元运算符：np.where()需要结合np.logical_and 和 np.logical_or 使用"
   ]
  },
  {
   "cell_type": "code",
   "execution_count": 118,
   "id": "3d6cbb7d",
   "metadata": {},
   "outputs": [
    {
     "data": {
      "text/plain": [
       "array([[76, 74, 88],\n",
       "       [87, 84, 70],\n",
       "       [91, 79, 95],\n",
       "       [77, 77, 97],\n",
       "       [83, 90, 97],\n",
       "       [61, 63, 72],\n",
       "       [85, 78, 76],\n",
       "       [69, 68, 86],\n",
       "       [71, 70, 73],\n",
       "       [85, 66, 76]])"
      ]
     },
     "execution_count": 118,
     "metadata": {},
     "output_type": "execute_result"
    }
   ],
   "source": [
    "np.where(np.logical_and(score_ndarray > 70 , score_ndarray < 90),1,0)# 满足大于70小于90的成绩记为1，否则记为0（并未改变原有数组）\n",
    "score_ndarray"
   ]
  },
  {
   "cell_type": "markdown",
   "id": "b837f715",
   "metadata": {},
   "source": [
    "        ④统计运算：np.max()/min()/median()/mean()/std()/var()/argmax(axis=)/argmin(axis=)   axis表示按行取还是按列取"
   ]
  },
  {
   "cell_type": "markdown",
   "id": "f21ea848",
   "metadata": {},
   "source": [
    "# numpy数组间运算\n",
    "#### 运算条件：两数组的形状相同\n",
    "#### 加减乘除是对应元素进行运算\n",
    "#### ！两行两列的数组和两行三列的数组之间不能运算"
   ]
  },
  {
   "cell_type": "code",
   "execution_count": 130,
   "id": "50f3f50d",
   "metadata": {},
   "outputs": [
    {
     "name": "stdout",
     "output_type": "stream",
     "text": [
      "ndarray：\n",
      " [[1 2]\n",
      " [3 4]]\n",
      "ndarray + 3：\n",
      " [[4 5]\n",
      " [6 7]]\n",
      "ndarray * 3\n",
      " [[ 3  6]\n",
      " [ 9 12]]\n",
      "ndarray / 3\n",
      " [[0.33333333 0.66666667]\n",
      " [1.         1.33333333]]\n"
     ]
    }
   ],
   "source": [
    "ndarray1 = np.array([[1,2],[3,4]])\n",
    "print(\"ndarray：\\n\",ndarray1)\n",
    "print(\"ndarray + 3：\\n\",ndarray1 + 3)# 数组加某个标量：所有的元素均加上该标量\n",
    "print(\"ndarray * 3\\n\",ndarray1 * 3)# 数组乘某个标量：所有元素均乘该标量\n",
    "print(\"ndarray / 3\\n\",ndarray1 / 3)# 数组除某个标量：所有元素均除以该标量"
   ]
  },
  {
   "cell_type": "code",
   "execution_count": 139,
   "id": "184346af",
   "metadata": {},
   "outputs": [
    {
     "name": "stdout",
     "output_type": "stream",
     "text": [
      "[[3 4]\n",
      " [9 8]]\n"
     ]
    }
   ],
   "source": [
    "ndarray2 = np.array([[3,2],[3,2]])\n",
    "np.shape(ndarray2)\n",
    "print(ndarray1 * ndarray2)"
   ]
  },
  {
   "cell_type": "markdown",
   "id": "938e59cd",
   "metadata": {},
   "source": [
    "#### 广播机制：扩展维度小的数组，使得他与维度最大的数组的shape值相同\n",
    "#### 条件（满足其中之一即可）：①数组的某一维相【有误】等②数组的某一维度为1"
   ]
  },
  {
   "cell_type": "code",
   "execution_count": 145,
   "id": "0f74a1e7",
   "metadata": {},
   "outputs": [
    {
     "ename": "TypeError",
     "evalue": "Field elements must be 2- or 3-tuples, got '4'",
     "output_type": "error",
     "traceback": [
      "\u001b[1;31m---------------------------------------------------------------------------\u001b[0m",
      "\u001b[1;31mTypeError\u001b[0m                                 Traceback (most recent call last)",
      "Cell \u001b[1;32mIn[145], line 1\u001b[0m\n\u001b[1;32m----> 1\u001b[0m a \u001b[38;5;241m=\u001b[39m np\u001b[38;5;241m.\u001b[39marray([\u001b[38;5;241m1\u001b[39m,\u001b[38;5;241m2\u001b[39m,\u001b[38;5;241m3\u001b[39m],[\u001b[38;5;241m4\u001b[39m,\u001b[38;5;241m5\u001b[39m,\u001b[38;5;241m6\u001b[39m])\u001b[38;5;66;03m# 两行三列\u001b[39;00m\n\u001b[0;32m      2\u001b[0m b \u001b[38;5;241m=\u001b[39m np\u001b[38;5;241m.\u001b[39marray([\u001b[38;5;241m2\u001b[39m,\u001b[38;5;241m1\u001b[39m])\u001b[38;5;66;03m# 三行两列\u001b[39;00m\n\u001b[0;32m      3\u001b[0m \u001b[38;5;28mprint\u001b[39m(a\u001b[38;5;241m*\u001b[39mb)\n",
      "\u001b[1;31mTypeError\u001b[0m: Field elements must be 2- or 3-tuples, got '4'"
     ]
    }
   ],
   "source": [
    "a = np.array([1,2,3],[4,5,6])# 两行三列\n",
    "b = np.array([2,1],[2,1],[2,1])# 三行两列\n",
    "print(a*b)"
   ]
  },
  {
   "cell_type": "code",
   "execution_count": null,
   "id": "1f76b2fb",
   "metadata": {},
   "outputs": [],
   "source": []
  }
 ],
 "metadata": {
  "kernelspec": {
   "display_name": "Python 3 (ipykernel)",
   "language": "python",
   "name": "python3"
  },
  "language_info": {
   "codemirror_mode": {
    "name": "ipython",
    "version": 3
   },
   "file_extension": ".py",
   "mimetype": "text/x-python",
   "name": "python",
   "nbconvert_exporter": "python",
   "pygments_lexer": "ipython3",
   "version": "3.12.3"
  }
 },
 "nbformat": 4,
 "nbformat_minor": 5
}
